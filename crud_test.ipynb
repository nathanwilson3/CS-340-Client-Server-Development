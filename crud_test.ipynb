{
 "cells": [
  {
   "cell_type": "code",
   "execution_count": 4,
   "id": "dc714eab",
   "metadata": {},
   "outputs": [],
   "source": [
    "from crud_module import AnimalShelter"
   ]
  },
  {
   "cell_type": "code",
   "execution_count": 5,
   "id": "ec84af6e",
   "metadata": {},
   "outputs": [],
   "source": [
    "# MongoDB connection variables\n",
    "USER = 'aacuser'\n",
    "PASS = 'SNHU1234'\n",
    "HOST = 'nv-desktop-services.apporto.com'\n",
    "PORT = 31992\n",
    "DB = 'AAC'\n",
    "COL = 'animals'"
   ]
  },
  {
   "cell_type": "code",
   "execution_count": 6,
   "id": "5be6caf3",
   "metadata": {},
   "outputs": [],
   "source": [
    "# Instantiate the CRUD class\n",
    "shelter = AnimalShelter(USER, PASS, HOST, PORT, DB, COL)"
   ]
  },
  {
   "cell_type": "code",
   "execution_count": 7,
   "id": "ccd912a8",
   "metadata": {},
   "outputs": [],
   "source": [
    "# Test data for insertion\n",
    "test_data = {\n",
    "    \"animal_id\": \"A123456\",\n",
    "    \"name\": \"Buddy\",\n",
    "    \"species\": \"Dog\",\n",
    "    \"age\": 5,\n",
    "    \"adopted\": False\n",
    "}"
   ]
  },
  {
   "cell_type": "code",
   "execution_count": 8,
   "id": "88bd2936",
   "metadata": {},
   "outputs": [
    {
     "name": "stdout",
     "output_type": "stream",
     "text": [
      "Create Result: True\n"
     ]
    }
   ],
   "source": [
    "# Test the create method\n",
    "create_result = shelter.create(test_data)\n",
    "print(\"Create Result:\", create_result)"
   ]
  },
  {
   "cell_type": "code",
   "execution_count": 9,
   "id": "4ba24a45",
   "metadata": {},
   "outputs": [
    {
     "name": "stdout",
     "output_type": "stream",
     "text": [
      "Read result: [{'_id': ObjectId('6658fae5042cfa406c53119a'), 'animal_id': 'A123456', 'name': 'Buddy', 'species': 'Dog', 'age': 5, 'adopted': False}]\n"
     ]
    }
   ],
   "source": [
    "# Test the Read Method\n",
    "query = {\"species\": \"Dog\"}\n",
    "read_result = shelter.read(query)\n",
    "print(\"Read result:\", read_result)"
   ]
  },
  {
   "cell_type": "code",
   "execution_count": null,
   "id": "2e1ce4b5",
   "metadata": {},
   "outputs": [],
   "source": []
  }
 ],
 "metadata": {
  "kernelspec": {
   "display_name": "Python 3 (ipykernel)",
   "language": "python",
   "name": "python3"
  },
  "language_info": {
   "codemirror_mode": {
    "name": "ipython",
    "version": 3
   },
   "file_extension": ".py",
   "mimetype": "text/x-python",
   "name": "python",
   "nbconvert_exporter": "python",
   "pygments_lexer": "ipython3",
   "version": "3.9.12"
  }
 },
 "nbformat": 4,
 "nbformat_minor": 5
}
